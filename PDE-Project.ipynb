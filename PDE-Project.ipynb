{
 "cells": [
  {
   "attachments": {},
   "cell_type": "markdown",
   "metadata": {},
   "source": [
    "# PDE Final Project\n",
    "## 1. 问题描述\n",
    "根据已知下列非齐次两点边值问题(1.2.28)\n",
    "$$\n",
    "\\left\\{\\begin{array}{l}\n",
    "\\boldsymbol{L} u=-\\frac{\\mathrm{d}}{\\mathrm{d} x}\\left(p \\frac{\\mathrm{d} u}{\\mathrm{~d} x}\\right)+q u=f, a<x<b, \\\\\n",
    "u(a)=\\alpha, u^{\\prime}(b)=\\beta,\n",
    "\\end{array}\\right.\n",
    "$$\n",
    "与下列变分问题等价：求$u_{*} \\in H^1, u(a)=\\alpha$，使\n",
    "$$\n",
    "J(u_{*})=\\min\\limits_{u \\in H^1 \\atop u(a) = \\alpha} J(u)\n",
    "$$\n",
    "其中\n",
    "$$\n",
    "\\begin{array}{c}\n",
    "J(u)=\\frac{1}{2} a(u, u)-(f, u)-p(b) \\beta u(b)\n",
    "\\end{array}\n",
    "$$\n",
    "$$\n",
    "a(u, v)=\\int_{a}^{b}\\left(p \\frac{d u}{d x} \\frac{d v}{d x}+q u v\\right) d x,\\quad(g, u)=\\int_{a}^{b} g u d x . \\\\\n",
    "$$\n",
    "$$\n",
    "\\text{设}  [a, b]=[-1,1], p(x) \\equiv-\\left(\\pi^{2}-1\\right)^{-1}, q(x) \\equiv 1, \\alpha=0, \\beta=-\\pi e , \\text{以及} \\\\\n",
    "$$\n",
    "$$\n",
    "f(x)=\\frac{2 \\pi}{\\pi^{2}-1} \\cdot \\cos (\\pi x) \\cdot e^{x}\n",
    "$$\n",
    "\n",
    "<b>任务1</b>：请认真阅读并完成以下子任务\n",
    "\n",
    "- 分别取$ℎ = 0.20, 0.10, 0.05, 0.02$时, 将求解域$[𝑎, 𝑏]$等分为长度为$ℎ$的单元或子区间\n",
    "- 根据上述剖分，就边值问题(1.2.28)和基函数(2.1.16)中$\\varphi_i(𝑥)$而设计$\\varphi_0(𝑥)$，编程构建相应的 Ritz-Galerkin 方程 (即有限元方程)\n",
    "- 分别使用<b>高斯消去法</b>和<b>雅可比迭代法</b>(迭代 30 次)，求解上述有限元方程\n",
    "- 计算得到有限元解$𝑢_h$，绘制有限元解$𝑢_h$的函数图像.\n",
    "\n",
    "<b>任务2</b>：已知$u(x)=\\sin(\\pi x) \\cdot e^x$是上述边值问题的解析解，针对不同的步长$h$线性方程组解法得到的数值解$u_h$，绘制误差函数$(u_h − u)$的函数图像，且进行观察分析。"
   ]
  },
  {
   "attachments": {},
   "cell_type": "markdown",
   "metadata": {},
   "source": [
    "## 2. 导入Taichi包环境和初始化"
   ]
  },
  {
   "cell_type": "code",
   "execution_count": null,
   "metadata": {},
   "outputs": [],
   "source": [
    "import taichi as ti\n",
    "import taichi.math as tm\n",
    "ti.init(arch=ti.gpu, debug=True)"
   ]
  },
  {
   "cell_type": "code",
   "execution_count": null,
   "metadata": {},
   "outputs": [],
   "source": []
  }
 ],
 "metadata": {
  "kernelspec": {
   "display_name": "Python 3",
   "language": "python",
   "name": "python3"
  },
  "language_info": {
   "codemirror_mode": {
    "name": "ipython",
    "version": 3
   },
   "file_extension": ".py",
   "mimetype": "text/x-python",
   "name": "python",
   "nbconvert_exporter": "python",
   "pygments_lexer": "ipython3",
   "version": "3.7.0"
  }
 },
 "nbformat": 4,
 "nbformat_minor": 2
}
